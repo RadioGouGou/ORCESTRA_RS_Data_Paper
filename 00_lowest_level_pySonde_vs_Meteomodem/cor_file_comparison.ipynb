{
 "cells": [
  {
   "cell_type": "code",
   "execution_count": null,
   "id": "df6afaec-2c6d-41c4-8f71-5ed3113cb606",
   "metadata": {},
   "outputs": [],
   "source": [
    "import xarray as xr\n",
    "import numpy as np\n",
    "import matplotlib.pylab as plt"
   ]
  },
  {
   "cell_type": "markdown",
   "id": "105d7cfe-4f08-445a-8770-8e5c87da0196",
   "metadata": {},
   "source": [
    "# Data"
   ]
  },
  {
   "cell_type": "markdown",
   "id": "fcdb7175-1fa6-41d0-9d4f-063bbf623196",
   "metadata": {},
   "source": [
    "### Level-0"
   ]
  },
  {
   "cell_type": "markdown",
   "id": "5750e8f7-578a-424f-abf8-f893c27324a0",
   "metadata": {},
   "source": [
    "Let's print the first 10 lines of the original .cor file. We assume that the column \"WindF\" delivers the windspeed."
   ]
  },
  {
   "cell_type": "code",
   "execution_count": null,
   "id": "d3aa7e2e-3110-48b1-a423-3830f4e79173",
   "metadata": {},
   "outputs": [],
   "source": [
    "file_path = \"example_files/SA2024090806_1.cor\"\n",
    "\n",
    "# Open the file and read all lines\n",
    "with open(file_path, \"r\") as file:\n",
    "    lines = file.readlines()\n",
    "\n",
    "# Print the first 10 lines for inspection\n",
    "for line in lines[:10]:\n",
    "    print(line.strip())\n",
    "\n",
    "# Parse the file and split into structured data\n",
    "data = []\n",
    "for line in lines:\n",
    "    split_line = line.strip().split()\n",
    "    data.append(split_line)"
   ]
  },
  {
   "cell_type": "code",
   "execution_count": null,
   "id": "5bb2cc0d-ccb7-445a-b8f6-20cd043b1b12",
   "metadata": {},
   "outputs": [],
   "source": [
    "first_altitude_row = data[1] \n",
    "windf_value = first_altitude_row[data[0].index(\"WindF\")]\n",
    "\n",
    "print(f\"First value of 'WindF' at the first altitude level: {windf_value} m/s.\")"
   ]
  },
  {
   "cell_type": "markdown",
   "id": "84e23a15-539e-45f7-bf57-662e41111bfe",
   "metadata": {},
   "source": [
    "### Level-1"
   ]
  },
  {
   "cell_type": "code",
   "execution_count": null,
   "id": "7f0a99fc-60ce-4297-b251-f3bf4d81d2d0",
   "metadata": {},
   "outputs": [],
   "source": [
    "maestro_level1 = xr.open_dataset(\"example_files/MAESTRO_SAL_CNRM_RS-ascent_L0_20240908-0432_V1.nc\")\n",
    "pySonde_level1 = xr.open_dataset(\"example_files/RS_ORCESTRA_SAL_L1_20240908T0432_ascent.nc\").isel(sounding=0)"
   ]
  },
  {
   "cell_type": "markdown",
   "id": "37e87603-3cc4-43b7-8dec-d1ac73f1b6f2",
   "metadata": {},
   "source": [
    "### Level2"
   ]
  },
  {
   "cell_type": "code",
   "execution_count": null,
   "id": "e8127795-28d4-4d4b-9bfd-68cefa236eee",
   "metadata": {},
   "outputs": [],
   "source": [
    "pySonde_level2 = xr.open_dataset(\"example_files/RS_ORCESTRA_SAL_L2_20240908T0432_ascent.nc\").isel(sounding=0)"
   ]
  },
  {
   "cell_type": "markdown",
   "id": "454ff459-ec07-433b-865f-ea8b6c45aa74",
   "metadata": {},
   "source": [
    "# Plotting"
   ]
  },
  {
   "cell_type": "code",
   "execution_count": null,
   "id": "cabdb270-764c-4e9a-84cf-8c04e2f7c1c8",
   "metadata": {},
   "outputs": [],
   "source": [
    "fig, (ax1, ax2) = plt.subplots(1, 2, figsize=(10, 6))\n",
    "\n",
    "ax1.plot(maestro_level1.windSpeed, maestro_level1.altitude, color='blue', marker='o', label='Maestro-L1')\n",
    "ax1.plot(pySonde_level1.wspd, pySonde_level1.alt, color='cornflowerblue', marker='x', ms=10, zorder=10, label='pySonde-L1')\n",
    "ax1.plot(pySonde_level2.wspd, pySonde_level2.alt, color='black', marker='o', label='pySonde-L2')\n",
    "\n",
    "ax1.set_ylabel('Altitude / m')\n",
    "ax1.set_xlabel(r'wspd / ms$^{-1}$')\n",
    "ax1.set_xlim(3, 6)\n",
    "ax1.set_ylim(45, 100)\n",
    "ax1.set_title(\"Wind Speed\")\n",
    "ax1.grid()\n",
    "\n",
    "\n",
    "ax2.plot(maestro_level1.windDirection, maestro_level1.altitude, color='blue', marker='o', label='Maestro-L1')\n",
    "ax2.plot(pySonde_level1.wdir, pySonde_level1.alt, color='cornflowerblue', marker='x', ms=10, zorder=10, label='pySonde-L1')\n",
    "ax2.plot(pySonde_level2.wdir, pySonde_level2.alt, color='black', marker='o', label='pySonde-L2')\n",
    "\n",
    "ax2.set_xlabel(r'wdir / deg')\n",
    "ax2.set_xlim(30, 50)\n",
    "ax2.set_ylim(45, 100)\n",
    "ax2.set_title(\"Wind Direction\")\n",
    "ax2.grid()\n",
    "\n",
    "ax2.legend(loc=\"upper center\", bbox_to_anchor=(0, -0.15), ncol=3)\n",
    "\n",
    "plt.savefig(\"meastro_vs_pysonde_processing.png\")\n",
    "plt.show()"
   ]
  },
  {
   "cell_type": "code",
   "execution_count": null,
   "id": "7487906b-5c30-4d2d-9407-68650b148826",
   "metadata": {},
   "outputs": [],
   "source": []
  }
 ],
 "metadata": {
  "kernelspec": {
   "display_name": "Python 3 (ipykernel)",
   "language": "python",
   "name": "python3"
  },
  "language_info": {
   "codemirror_mode": {
    "name": "ipython",
    "version": 3
   },
   "file_extension": ".py",
   "mimetype": "text/x-python",
   "name": "python",
   "nbconvert_exporter": "python",
   "pygments_lexer": "ipython3",
   "version": "3.10.13"
  }
 },
 "nbformat": 4,
 "nbformat_minor": 5
}
